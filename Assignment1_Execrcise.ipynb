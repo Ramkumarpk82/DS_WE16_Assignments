{
  "nbformat": 4,
  "nbformat_minor": 0,
  "metadata": {
    "kernelspec": {
      "display_name": "Python 3",
      "language": "python",
      "name": "python3"
    },
    "language_info": {
      "codemirror_mode": {
        "name": "ipython",
        "version": 3
      },
      "file_extension": ".py",
      "mimetype": "text/x-python",
      "name": "python",
      "nbconvert_exporter": "python",
      "pygments_lexer": "ipython3",
      "version": "3.7.0"
    },
    "colab": {
      "name": "Assignment1_Execrcise.ipynb",
      "provenance": [],
      "collapsed_sections": [],
      "include_colab_link": true
    }
  },
  "cells": [
    {
      "cell_type": "markdown",
      "metadata": {
        "id": "view-in-github",
        "colab_type": "text"
      },
      "source": [
        "<a href=\"https://colab.research.google.com/github/Ramkumarpk82/DS_WE16_Assignments/blob/main/Assignment1_Execrcise.ipynb\" target=\"_parent\"><img src=\"https://colab.research.google.com/assets/colab-badge.svg\" alt=\"Open In Colab\"/></a>"
      ]
    },
    {
      "cell_type": "markdown",
      "metadata": {
        "id": "s6pH2NBfNnzB"
      },
      "source": [
        "### The questions for the exercises are given above the cells and the expected output is given below the cell. Please type the code inserting a new cell below the question because if you run the expected output cell the output would vanish! Happy learning! "
      ]
    },
    {
      "cell_type": "markdown",
      "metadata": {
        "id": "-ZuAmoSFNnzD"
      },
      "source": [
        "## Exercise Question 1: Given an input list removes the element at index 4 and add it to the 2nd position and also, at the end of the list\n",
        "\n",
        "For example: List = [54, 44, 27, 79, 91, 41]"
      ]
    },
    {
      "cell_type": "code",
      "metadata": {
        "id": "vcwYlZqagoz4"
      },
      "source": [
        "# Expected Output\n",
        "Original list  [34, 54, 67, 89, 11, 43, 94]\n",
        "List After removing element at index 4  [34, 54, 67, 89, 43, 94]\n",
        "List after Adding element at index 2  [34, 54, 11, 67, 89, 43, 94]\n",
        "List after Adding element at last  [34, 54, 11, 67, 89, 43, 94, 11]"
      ],
      "execution_count": null,
      "outputs": []
    },
    {
      "cell_type": "code",
      "metadata": {
        "colab": {
          "base_uri": "https://localhost:8080/"
        },
        "id": "mp0G5ktENnzE",
        "outputId": "7105ce48-9834-4525-9b48-078f30c4b81b"
      },
      "source": [
        "OrgLst = [34, 54, 67, 89, 11, 43, 94]\n",
        "print('Original list :',  OrgLst)\n",
        "Indx4Val = OrgLst.pop(4)\n",
        "print('List After removing element at index 4 :', OrgLst)\n",
        "OrgLst[2] = Indx4Val\n",
        "print('List after Adding element at index 2 :', OrgLst)\n",
        "OrgLst.append(Indx4Val)\n",
        "print('List after Adding element at last  :', OrgLst)"
      ],
      "execution_count": 17,
      "outputs": [
        {
          "output_type": "stream",
          "text": [
            "Original list : [34, 54, 67, 89, 11, 43, 94]\n",
            "List After removing element at index 4 : [34, 54, 67, 89, 43, 94]\n",
            "List after Adding element at index 2 : [34, 54, 11, 89, 43, 94]\n",
            "List after Adding element at last  : [34, 54, 11, 89, 43, 94, 11]\n"
          ],
          "name": "stdout"
        }
      ]
    },
    {
      "cell_type": "markdown",
      "metadata": {
        "id": "qwL6H1GBNnzE"
      },
      "source": [
        "## Exercise Question 2: Given a two list of equal size create a list of unique elements from both the lists into a seperate list"
      ]
    },
    {
      "cell_type": "code",
      "metadata": {
        "id": "bHX4EgcVg750"
      },
      "source": [
        "# Expected output\n",
        "First List  [2, 3, 4, 5, 6, 7, 8]\n",
        "Second List  [4, 9, 16, 25, 36, 49, 64]\n",
        "[64, 2, 3, 4, 5, 6, 7, 8, 9, 36, 16, 49, 25]"
      ],
      "execution_count": null,
      "outputs": []
    },
    {
      "cell_type": "code",
      "metadata": {
        "scrolled": true,
        "id": "SxW5B7pbNnzF",
        "colab": {
          "base_uri": "https://localhost:8080/"
        },
        "outputId": "38f36106-7e73-4279-b594-b8ee56548689"
      },
      "source": [
        "FrstLst = [2, 3, 4, 5, 6, 7, 8]\n",
        "ScndLst = [4, 9, 16, 25, 36, 49, 64]\n",
        "list(set(FrstLst + ScndLst))"
      ],
      "execution_count": 18,
      "outputs": [
        {
          "output_type": "execute_result",
          "data": {
            "text/plain": [
              "[64, 2, 3, 4, 5, 6, 7, 8, 9, 36, 16, 49, 25]"
            ]
          },
          "metadata": {
            "tags": []
          },
          "execution_count": 18
        }
      ]
    },
    {
      "cell_type": "markdown",
      "metadata": {
        "id": "lTYQDZwpNnzF"
      },
      "source": [
        "## Exercise Question 3: Remove duplicate from a list and create a tuple and find the minimum and maximum number (Hint: Try Functions Min() and Max() ) "
      ]
    },
    {
      "cell_type": "code",
      "metadata": {
        "id": "hSu39BoGNnzF"
      },
      "source": [
        "# Expected Output\n",
        "Original list [87, 52, 44, 53, 54, 87, 52, 53]\n",
        "unique list [44, 52, 53, 54, 87]\n",
        "tuple  (44, 52, 53, 54, 87)\n",
        "Minimum number is:  44\n",
        "Maximum number is:  87"
      ],
      "execution_count": null,
      "outputs": []
    },
    {
      "cell_type": "code",
      "metadata": {
        "colab": {
          "base_uri": "https://localhost:8080/"
        },
        "id": "IcZFRNkTd5CP",
        "outputId": "5ee72670-807d-4745-9e73-98a444ce66dd"
      },
      "source": [
        "OrgLst = [87, 52, 44, 53, 54, 87, 52, 53]\n",
        "print ('Original list ',OrgLst)\n",
        "UnqLst = list(set(OrgLst))\n",
        "print ('Unique list ',UnqLst)\n",
        "tple = tuple(UnqLst)\n",
        "print ('tuple ',tple)\n",
        "print ('Minimum number is: ',min(OrgLst))\n",
        "print ('Maximum number is: ',max(tple))"
      ],
      "execution_count": 16,
      "outputs": [
        {
          "output_type": "stream",
          "text": [
            "Original list  [87, 52, 44, 53, 54, 87, 52, 53]\n",
            "Unique list  [44, 52, 53, 54, 87]\n",
            "tuple  (44, 52, 53, 54, 87)\n",
            "Minimum number is:  44\n",
            "Maximum number is:  87\n"
          ],
          "name": "stdout"
        }
      ]
    },
    {
      "cell_type": "markdown",
      "metadata": {
        "id": "elcUoEhCNnzG"
      },
      "source": [
        "## Exercise Question 4: Display the each word in the string Count the number of words in a string and display it (Including the white spaces) "
      ]
    },
    {
      "cell_type": "code",
      "metadata": {
        "id": "F-48M8ibNnzG",
        "outputId": "8cfa73e7-e0b2-4cb8-f743-955a95dd95a8"
      },
      "source": [
        "#Printing each words seperately \n",
        "a = \"what's up?\"\n",
        "print(*a)"
      ],
      "execution_count": null,
      "outputs": [
        {
          "output_type": "stream",
          "text": [
            "w h a t ' s   u p ?\n"
          ],
          "name": "stdout"
        }
      ]
    },
    {
      "cell_type": "code",
      "metadata": {
        "colab": {
          "base_uri": "https://localhost:8080/"
        },
        "id": "0IxcJ0jchm6B",
        "outputId": "f9ff3774-5594-4106-c644-ba1f0aac1197"
      },
      "source": [
        "a = \"what's up?\"\n",
        "print(*a) ; len(a)"
      ],
      "execution_count": 22,
      "outputs": [
        {
          "output_type": "stream",
          "text": [
            "w h a t ' s   u p ?\n"
          ],
          "name": "stdout"
        },
        {
          "output_type": "execute_result",
          "data": {
            "text/plain": [
              "10"
            ]
          },
          "metadata": {
            "tags": []
          },
          "execution_count": 22
        }
      ]
    },
    {
      "cell_type": "code",
      "metadata": {
        "id": "FuEcK7T8NnzH",
        "outputId": "116a877b-6e80-4519-c766-24b5edac7aa6"
      },
      "source": [
        ""
      ],
      "execution_count": null,
      "outputs": [
        {
          "output_type": "stream",
          "text": [
            "The sample string: Welcome to Python\n",
            "Printing each words seperately:  W e l c o m e   t o   P y t h o n\n",
            "The Length of the string 17\n"
          ],
          "name": "stdout"
        }
      ]
    },
    {
      "cell_type": "code",
      "metadata": {
        "colab": {
          "base_uri": "https://localhost:8080/"
        },
        "id": "3aRoxBiHiBIO",
        "outputId": "03c9e2ba-ded1-4b69-e0ce-34d1d23e640e"
      },
      "source": [
        "sampstr ='Welcome to Python'\n",
        "print('The sample string: ',sampstr)\n",
        "print('Printing each words seperately:  ',*sampstr)\n",
        "print(\"The Length of the string \",len(sampstr)) ;"
      ],
      "execution_count": 25,
      "outputs": [
        {
          "output_type": "stream",
          "text": [
            "The sample string:  Welcome to Python\n",
            "Printing each words seperately:   W e l c o m e   t o   P y t h o n\n",
            "The Length of the string  17\n"
          ],
          "name": "stdout"
        }
      ]
    },
    {
      "cell_type": "markdown",
      "metadata": {
        "id": "x69MQojYNnzH"
      },
      "source": [
        "##  Exercise Question 5: Write a Python program to access dictionary keys element by index. i.e. Use indexing methods to print the first key"
      ]
    },
    {
      "cell_type": "code",
      "metadata": {
        "id": "UCL5mBFGNnzH",
        "outputId": "fd175ba1-63bf-4bd5-8e9c-f74e24e2e891"
      },
      "source": [
        ""
      ],
      "execution_count": null,
      "outputs": [
        {
          "output_type": "stream",
          "text": [
            "The dictionary is:  {'physics': 80, 'math': 90, 'chemistry': 86}\n",
            "The key element accesed by index:  physics\n"
          ],
          "name": "stdout"
        }
      ]
    },
    {
      "cell_type": "code",
      "metadata": {
        "colab": {
          "base_uri": "https://localhost:8080/"
        },
        "id": "oK2C9ogvjBPK",
        "outputId": "5eff28a0-b9f3-4f3a-d1b1-e286cf967b91"
      },
      "source": [
        "dict =  {'physics': 80, 'math': 90, 'chemistry': 86}\n",
        "print('The dictionary is:  ', dict) ; print(dict.keys()) ; print(dict.values())\n",
        "print('The key element accesed by index:  physics is' ,dict['physics'])\n",
        "dict.items()"
      ],
      "execution_count": 44,
      "outputs": [
        {
          "output_type": "stream",
          "text": [
            "The dictionary is:   {'physics': 80, 'math': 90, 'chemistry': 86}\n",
            "dict_keys(['physics', 'math', 'chemistry'])\n",
            "dict_values([80, 90, 86])\n",
            "The key element accesed by index:  physics is 80\n"
          ],
          "name": "stdout"
        },
        {
          "output_type": "execute_result",
          "data": {
            "text/plain": [
              "dict_items([('physics', 80), ('math', 90), ('chemistry', 86)])"
            ]
          },
          "metadata": {
            "tags": []
          },
          "execution_count": 44
        }
      ]
    },
    {
      "cell_type": "code",
      "metadata": {
        "id": "uQjK66ElNnzI"
      },
      "source": [
        ""
      ],
      "execution_count": null,
      "outputs": []
    }
  ]
}